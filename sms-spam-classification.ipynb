{
 "cells": [
  {
   "cell_type": "code",
   "execution_count": 1,
   "id": "cb68bab2",
   "metadata": {
    "_cell_guid": "b1076dfc-b9ad-4769-8c92-a6c4dae69d19",
    "_uuid": "8f2839f25d086af736a60e9eeb907d3b93b6e0e5",
    "execution": {
     "iopub.execute_input": "2022-01-07T16:18:33.714830Z",
     "iopub.status.busy": "2022-01-07T16:18:33.713327Z",
     "iopub.status.idle": "2022-01-07T16:18:33.723032Z",
     "shell.execute_reply": "2022-01-07T16:18:33.723452Z",
     "shell.execute_reply.started": "2022-01-06T15:26:29.446382Z"
    },
    "papermill": {
     "duration": 0.054151,
     "end_time": "2022-01-07T16:18:33.723667",
     "exception": false,
     "start_time": "2022-01-07T16:18:33.669516",
     "status": "completed"
    },
    "tags": []
   },
   "outputs": [],
   "source": [
    "#Loading the Libraries\n",
    "import pandas as pd # Pandas is used to analyze data.\n",
    "import numpy as np  # NumPy is a library used for working with arrays."
   ]
  },
  {
   "cell_type": "code",
   "execution_count": 2,
   "id": "f1c971eb",
   "metadata": {
    "execution": {
     "iopub.execute_input": "2022-01-07T16:18:33.805089Z",
     "iopub.status.busy": "2022-01-07T16:18:33.804541Z",
     "iopub.status.idle": "2022-01-07T16:18:33.845425Z",
     "shell.execute_reply": "2022-01-07T16:18:33.844713Z",
     "shell.execute_reply.started": "2022-01-06T15:26:29.452278Z"
    },
    "papermill": {
     "duration": 0.083286,
     "end_time": "2022-01-07T16:18:33.845585",
     "exception": false,
     "start_time": "2022-01-07T16:18:33.762299",
     "status": "completed"
    },
    "tags": []
   },
   "outputs": [],
   "source": [
    "# Reading the csv file\n",
    "messages=pd.read_csv('../input/sms-spam-collection-dataset/spam.csv',encoding=('ISO-8859-1'))"
   ]
  },
  {
   "cell_type": "code",
   "execution_count": 3,
   "id": "bfc065d9",
   "metadata": {
    "execution": {
     "iopub.execute_input": "2022-01-07T16:18:33.929444Z",
     "iopub.status.busy": "2022-01-07T16:18:33.928647Z",
     "iopub.status.idle": "2022-01-07T16:18:33.945974Z",
     "shell.execute_reply": "2022-01-07T16:18:33.946382Z",
     "shell.execute_reply.started": "2022-01-06T15:26:29.566373Z"
    },
    "papermill": {
     "duration": 0.059172,
     "end_time": "2022-01-07T16:18:33.946515",
     "exception": false,
     "start_time": "2022-01-07T16:18:33.887343",
     "status": "completed"
    },
    "tags": []
   },
   "outputs": [
    {
     "data": {
      "text/html": [
       "<div>\n",
       "<style scoped>\n",
       "    .dataframe tbody tr th:only-of-type {\n",
       "        vertical-align: middle;\n",
       "    }\n",
       "\n",
       "    .dataframe tbody tr th {\n",
       "        vertical-align: top;\n",
       "    }\n",
       "\n",
       "    .dataframe thead th {\n",
       "        text-align: right;\n",
       "    }\n",
       "</style>\n",
       "<table border=\"1\" class=\"dataframe\">\n",
       "  <thead>\n",
       "    <tr style=\"text-align: right;\">\n",
       "      <th></th>\n",
       "      <th>v1</th>\n",
       "      <th>v2</th>\n",
       "      <th>Unnamed: 2</th>\n",
       "      <th>Unnamed: 3</th>\n",
       "      <th>Unnamed: 4</th>\n",
       "    </tr>\n",
       "  </thead>\n",
       "  <tbody>\n",
       "    <tr>\n",
       "      <th>0</th>\n",
       "      <td>ham</td>\n",
       "      <td>Go until jurong point, crazy.. Available only ...</td>\n",
       "      <td>NaN</td>\n",
       "      <td>NaN</td>\n",
       "      <td>NaN</td>\n",
       "    </tr>\n",
       "    <tr>\n",
       "      <th>1</th>\n",
       "      <td>ham</td>\n",
       "      <td>Ok lar... Joking wif u oni...</td>\n",
       "      <td>NaN</td>\n",
       "      <td>NaN</td>\n",
       "      <td>NaN</td>\n",
       "    </tr>\n",
       "    <tr>\n",
       "      <th>2</th>\n",
       "      <td>spam</td>\n",
       "      <td>Free entry in 2 a wkly comp to win FA Cup fina...</td>\n",
       "      <td>NaN</td>\n",
       "      <td>NaN</td>\n",
       "      <td>NaN</td>\n",
       "    </tr>\n",
       "    <tr>\n",
       "      <th>3</th>\n",
       "      <td>ham</td>\n",
       "      <td>U dun say so early hor... U c already then say...</td>\n",
       "      <td>NaN</td>\n",
       "      <td>NaN</td>\n",
       "      <td>NaN</td>\n",
       "    </tr>\n",
       "    <tr>\n",
       "      <th>4</th>\n",
       "      <td>ham</td>\n",
       "      <td>Nah I don't think he goes to usf, he lives aro...</td>\n",
       "      <td>NaN</td>\n",
       "      <td>NaN</td>\n",
       "      <td>NaN</td>\n",
       "    </tr>\n",
       "  </tbody>\n",
       "</table>\n",
       "</div>"
      ],
      "text/plain": [
       "     v1                                                 v2 Unnamed: 2  \\\n",
       "0   ham  Go until jurong point, crazy.. Available only ...        NaN   \n",
       "1   ham                      Ok lar... Joking wif u oni...        NaN   \n",
       "2  spam  Free entry in 2 a wkly comp to win FA Cup fina...        NaN   \n",
       "3   ham  U dun say so early hor... U c already then say...        NaN   \n",
       "4   ham  Nah I don't think he goes to usf, he lives aro...        NaN   \n",
       "\n",
       "  Unnamed: 3 Unnamed: 4  \n",
       "0        NaN        NaN  \n",
       "1        NaN        NaN  \n",
       "2        NaN        NaN  \n",
       "3        NaN        NaN  \n",
       "4        NaN        NaN  "
      ]
     },
     "execution_count": 3,
     "metadata": {},
     "output_type": "execute_result"
    }
   ],
   "source": [
    "messages.head()"
   ]
  },
  {
   "cell_type": "code",
   "execution_count": 4,
   "id": "98128848",
   "metadata": {
    "execution": {
     "iopub.execute_input": "2022-01-07T16:18:34.036854Z",
     "iopub.status.busy": "2022-01-07T16:18:34.035906Z",
     "iopub.status.idle": "2022-01-07T16:18:34.037763Z",
     "shell.execute_reply": "2022-01-07T16:18:34.038257Z",
     "shell.execute_reply.started": "2022-01-06T15:26:29.580572Z"
    },
    "papermill": {
     "duration": 0.051599,
     "end_time": "2022-01-07T16:18:34.038398",
     "exception": false,
     "start_time": "2022-01-07T16:18:33.986799",
     "status": "completed"
    },
    "tags": []
   },
   "outputs": [],
   "source": [
    "df = pd.DataFrame( messages,columns=['v1','v2'])"
   ]
  },
  {
   "cell_type": "code",
   "execution_count": 5,
   "id": "09bf0e79",
   "metadata": {
    "execution": {
     "iopub.execute_input": "2022-01-07T16:18:34.158986Z",
     "iopub.status.busy": "2022-01-07T16:18:34.158077Z",
     "iopub.status.idle": "2022-01-07T16:18:34.162912Z",
     "shell.execute_reply": "2022-01-07T16:18:34.163326Z",
     "shell.execute_reply.started": "2022-01-06T15:26:29.689894Z"
    },
    "papermill": {
     "duration": 0.082468,
     "end_time": "2022-01-07T16:18:34.163468",
     "exception": false,
     "start_time": "2022-01-07T16:18:34.081000",
     "status": "completed"
    },
    "tags": []
   },
   "outputs": [
    {
     "data": {
      "text/html": [
       "<div>\n",
       "<style scoped>\n",
       "    .dataframe tbody tr th:only-of-type {\n",
       "        vertical-align: middle;\n",
       "    }\n",
       "\n",
       "    .dataframe tbody tr th {\n",
       "        vertical-align: top;\n",
       "    }\n",
       "\n",
       "    .dataframe thead th {\n",
       "        text-align: right;\n",
       "    }\n",
       "</style>\n",
       "<table border=\"1\" class=\"dataframe\">\n",
       "  <thead>\n",
       "    <tr style=\"text-align: right;\">\n",
       "      <th></th>\n",
       "      <th>v1</th>\n",
       "      <th>v2</th>\n",
       "    </tr>\n",
       "  </thead>\n",
       "  <tbody>\n",
       "    <tr>\n",
       "      <th>0</th>\n",
       "      <td>ham</td>\n",
       "      <td>Go until jurong point, crazy.. Available only ...</td>\n",
       "    </tr>\n",
       "    <tr>\n",
       "      <th>1</th>\n",
       "      <td>ham</td>\n",
       "      <td>Ok lar... Joking wif u oni...</td>\n",
       "    </tr>\n",
       "    <tr>\n",
       "      <th>2</th>\n",
       "      <td>spam</td>\n",
       "      <td>Free entry in 2 a wkly comp to win FA Cup fina...</td>\n",
       "    </tr>\n",
       "    <tr>\n",
       "      <th>3</th>\n",
       "      <td>ham</td>\n",
       "      <td>U dun say so early hor... U c already then say...</td>\n",
       "    </tr>\n",
       "    <tr>\n",
       "      <th>4</th>\n",
       "      <td>ham</td>\n",
       "      <td>Nah I don't think he goes to usf, he lives aro...</td>\n",
       "    </tr>\n",
       "  </tbody>\n",
       "</table>\n",
       "</div>"
      ],
      "text/plain": [
       "     v1                                                 v2\n",
       "0   ham  Go until jurong point, crazy.. Available only ...\n",
       "1   ham                      Ok lar... Joking wif u oni...\n",
       "2  spam  Free entry in 2 a wkly comp to win FA Cup fina...\n",
       "3   ham  U dun say so early hor... U c already then say...\n",
       "4   ham  Nah I don't think he goes to usf, he lives aro..."
      ]
     },
     "execution_count": 5,
     "metadata": {},
     "output_type": "execute_result"
    }
   ],
   "source": [
    "df.head()"
   ]
  },
  {
   "cell_type": "markdown",
   "id": "2ddf72e7",
   "metadata": {
    "papermill": {
     "duration": 0.039176,
     "end_time": "2022-01-07T16:18:34.242008",
     "exception": false,
     "start_time": "2022-01-07T16:18:34.202832",
     "status": "completed"
    },
    "tags": []
   },
   "source": [
    "## Exploratory Data Analysis\n"
   ]
  },
  {
   "cell_type": "code",
   "execution_count": 6,
   "id": "754531a4",
   "metadata": {
    "execution": {
     "iopub.execute_input": "2022-01-07T16:18:34.338054Z",
     "iopub.status.busy": "2022-01-07T16:18:34.337419Z",
     "iopub.status.idle": "2022-01-07T16:18:34.340888Z",
     "shell.execute_reply": "2022-01-07T16:18:34.341484Z",
     "shell.execute_reply.started": "2022-01-06T15:26:29.702858Z"
    },
    "papermill": {
     "duration": 0.060907,
     "end_time": "2022-01-07T16:18:34.341676",
     "exception": false,
     "start_time": "2022-01-07T16:18:34.280769",
     "status": "completed"
    },
    "tags": []
   },
   "outputs": [
    {
     "name": "stdout",
     "output_type": "stream",
     "text": [
      "<class 'pandas.core.frame.DataFrame'>\n",
      "RangeIndex: 5572 entries, 0 to 5571\n",
      "Data columns (total 2 columns):\n",
      " #   Column  Non-Null Count  Dtype \n",
      "---  ------  --------------  ----- \n",
      " 0   v1      5572 non-null   object\n",
      " 1   v2      5572 non-null   object\n",
      "dtypes: object(2)\n",
      "memory usage: 87.2+ KB\n"
     ]
    }
   ],
   "source": [
    "#Info for the data\n",
    "df.info()"
   ]
  },
  {
   "cell_type": "code",
   "execution_count": 7,
   "id": "e0cbaf47",
   "metadata": {
    "execution": {
     "iopub.execute_input": "2022-01-07T16:18:34.457232Z",
     "iopub.status.busy": "2022-01-07T16:18:34.456129Z",
     "iopub.status.idle": "2022-01-07T16:18:34.463355Z",
     "shell.execute_reply": "2022-01-07T16:18:34.464013Z",
     "shell.execute_reply.started": "2022-01-06T15:26:29.717177Z"
    },
    "papermill": {
     "duration": 0.081582,
     "end_time": "2022-01-07T16:18:34.464201",
     "exception": false,
     "start_time": "2022-01-07T16:18:34.382619",
     "status": "completed"
    },
    "tags": []
   },
   "outputs": [
    {
     "data": {
      "text/plain": [
       "v1    0\n",
       "v2    0\n",
       "dtype: int64"
      ]
     },
     "execution_count": 7,
     "metadata": {},
     "output_type": "execute_result"
    }
   ],
   "source": [
    "#Finding Missing Values\n",
    "df.isnull().sum()"
   ]
  },
  {
   "cell_type": "code",
   "execution_count": 8,
   "id": "cda377d4",
   "metadata": {
    "execution": {
     "iopub.execute_input": "2022-01-07T16:18:34.564249Z",
     "iopub.status.busy": "2022-01-07T16:18:34.563594Z",
     "iopub.status.idle": "2022-01-07T16:18:34.566204Z",
     "shell.execute_reply": "2022-01-07T16:18:34.566608Z",
     "shell.execute_reply.started": "2022-01-06T15:26:29.729525Z"
    },
    "papermill": {
     "duration": 0.047094,
     "end_time": "2022-01-07T16:18:34.566741",
     "exception": false,
     "start_time": "2022-01-07T16:18:34.519647",
     "status": "completed"
    },
    "tags": []
   },
   "outputs": [
    {
     "data": {
      "text/plain": [
       "(5572, 2)"
      ]
     },
     "execution_count": 8,
     "metadata": {},
     "output_type": "execute_result"
    }
   ],
   "source": [
    "#Rows and Columns\n",
    "df.shape"
   ]
  },
  {
   "cell_type": "code",
   "execution_count": 9,
   "id": "ac52efee",
   "metadata": {
    "execution": {
     "iopub.execute_input": "2022-01-07T16:18:34.654209Z",
     "iopub.status.busy": "2022-01-07T16:18:34.653548Z",
     "iopub.status.idle": "2022-01-07T16:18:34.656196Z",
     "shell.execute_reply": "2022-01-07T16:18:34.656606Z",
     "shell.execute_reply.started": "2022-01-06T15:26:29.739991Z"
    },
    "papermill": {
     "duration": 0.049983,
     "end_time": "2022-01-07T16:18:34.656741",
     "exception": false,
     "start_time": "2022-01-07T16:18:34.606758",
     "status": "completed"
    },
    "tags": []
   },
   "outputs": [
    {
     "data": {
      "text/plain": [
       "ham     4825\n",
       "spam     747\n",
       "Name: v1, dtype: int64"
      ]
     },
     "execution_count": 9,
     "metadata": {},
     "output_type": "execute_result"
    }
   ],
   "source": [
    "# Target variable counts\n",
    "messages['v1'].value_counts()"
   ]
  },
  {
   "cell_type": "markdown",
   "id": "e433754d",
   "metadata": {
    "papermill": {
     "duration": 0.039605,
     "end_time": "2022-01-07T16:18:34.736168",
     "exception": false,
     "start_time": "2022-01-07T16:18:34.696563",
     "status": "completed"
    },
    "tags": []
   },
   "source": [
    "## Data Processing"
   ]
  },
  {
   "cell_type": "code",
   "execution_count": 10,
   "id": "23006bed",
   "metadata": {
    "execution": {
     "iopub.execute_input": "2022-01-07T16:18:34.904633Z",
     "iopub.status.busy": "2022-01-07T16:18:34.889292Z",
     "iopub.status.idle": "2022-01-07T16:18:34.909669Z",
     "shell.execute_reply": "2022-01-07T16:18:34.910152Z",
     "shell.execute_reply.started": "2022-01-06T15:26:29.750867Z"
    },
    "papermill": {
     "duration": 0.109316,
     "end_time": "2022-01-07T16:18:34.910315",
     "exception": false,
     "start_time": "2022-01-07T16:18:34.800999",
     "status": "completed"
    },
    "tags": []
   },
   "outputs": [],
   "source": [
    "#Calculating Length of Message\n",
    "message_length=0\n",
    "length=[]\n",
    "for i in range(len(messages)):\n",
    "    length.append(len(df['v2'][i]))"
   ]
  },
  {
   "cell_type": "code",
   "execution_count": 11,
   "id": "e18bc2d1",
   "metadata": {
    "execution": {
     "iopub.execute_input": "2022-01-07T16:18:35.003143Z",
     "iopub.status.busy": "2022-01-07T16:18:35.002223Z",
     "iopub.status.idle": "2022-01-07T16:18:35.004158Z",
     "shell.execute_reply": "2022-01-07T16:18:35.004670Z",
     "shell.execute_reply.started": "2022-01-06T15:26:29.797848Z"
    },
    "papermill": {
     "duration": 0.051557,
     "end_time": "2022-01-07T16:18:35.004808",
     "exception": false,
     "start_time": "2022-01-07T16:18:34.953251",
     "status": "completed"
    },
    "tags": []
   },
   "outputs": [],
   "source": [
    "#Adding Length column to the dataframe\n",
    "df['length']=length"
   ]
  },
  {
   "cell_type": "code",
   "execution_count": 12,
   "id": "fb14d126",
   "metadata": {
    "execution": {
     "iopub.execute_input": "2022-01-07T16:18:35.101499Z",
     "iopub.status.busy": "2022-01-07T16:18:35.100743Z",
     "iopub.status.idle": "2022-01-07T16:18:35.103522Z",
     "shell.execute_reply": "2022-01-07T16:18:35.103914Z",
     "shell.execute_reply.started": "2022-01-06T15:26:29.866768Z"
    },
    "papermill": {
     "duration": 0.056985,
     "end_time": "2022-01-07T16:18:35.104075",
     "exception": false,
     "start_time": "2022-01-07T16:18:35.047090",
     "status": "completed"
    },
    "tags": []
   },
   "outputs": [
    {
     "data": {
      "text/html": [
       "<div>\n",
       "<style scoped>\n",
       "    .dataframe tbody tr th:only-of-type {\n",
       "        vertical-align: middle;\n",
       "    }\n",
       "\n",
       "    .dataframe tbody tr th {\n",
       "        vertical-align: top;\n",
       "    }\n",
       "\n",
       "    .dataframe thead th {\n",
       "        text-align: right;\n",
       "    }\n",
       "</style>\n",
       "<table border=\"1\" class=\"dataframe\">\n",
       "  <thead>\n",
       "    <tr style=\"text-align: right;\">\n",
       "      <th></th>\n",
       "      <th>v1</th>\n",
       "      <th>v2</th>\n",
       "      <th>length</th>\n",
       "    </tr>\n",
       "  </thead>\n",
       "  <tbody>\n",
       "    <tr>\n",
       "      <th>0</th>\n",
       "      <td>ham</td>\n",
       "      <td>Go until jurong point, crazy.. Available only ...</td>\n",
       "      <td>111</td>\n",
       "    </tr>\n",
       "    <tr>\n",
       "      <th>1</th>\n",
       "      <td>ham</td>\n",
       "      <td>Ok lar... Joking wif u oni...</td>\n",
       "      <td>29</td>\n",
       "    </tr>\n",
       "    <tr>\n",
       "      <th>2</th>\n",
       "      <td>spam</td>\n",
       "      <td>Free entry in 2 a wkly comp to win FA Cup fina...</td>\n",
       "      <td>155</td>\n",
       "    </tr>\n",
       "    <tr>\n",
       "      <th>3</th>\n",
       "      <td>ham</td>\n",
       "      <td>U dun say so early hor... U c already then say...</td>\n",
       "      <td>49</td>\n",
       "    </tr>\n",
       "    <tr>\n",
       "      <th>4</th>\n",
       "      <td>ham</td>\n",
       "      <td>Nah I don't think he goes to usf, he lives aro...</td>\n",
       "      <td>61</td>\n",
       "    </tr>\n",
       "  </tbody>\n",
       "</table>\n",
       "</div>"
      ],
      "text/plain": [
       "     v1                                                 v2  length\n",
       "0   ham  Go until jurong point, crazy.. Available only ...     111\n",
       "1   ham                      Ok lar... Joking wif u oni...      29\n",
       "2  spam  Free entry in 2 a wkly comp to win FA Cup fina...     155\n",
       "3   ham  U dun say so early hor... U c already then say...      49\n",
       "4   ham  Nah I don't think he goes to usf, he lives aro...      61"
      ]
     },
     "execution_count": 12,
     "metadata": {},
     "output_type": "execute_result"
    }
   ],
   "source": [
    "df.head()"
   ]
  },
  {
   "cell_type": "code",
   "execution_count": 13,
   "id": "c30682fd",
   "metadata": {
    "execution": {
     "iopub.execute_input": "2022-01-07T16:18:35.218635Z",
     "iopub.status.busy": "2022-01-07T16:18:35.208423Z",
     "iopub.status.idle": "2022-01-07T16:18:35.281223Z",
     "shell.execute_reply": "2022-01-07T16:18:35.281646Z",
     "shell.execute_reply.started": "2022-01-06T15:26:29.879284Z"
    },
    "papermill": {
     "duration": 0.136817,
     "end_time": "2022-01-07T16:18:35.281806",
     "exception": false,
     "start_time": "2022-01-07T16:18:35.144989",
     "status": "completed"
    },
    "tags": []
   },
   "outputs": [],
   "source": [
    "#Calculating Punctuations in each message\n",
    "\n",
    "import string\n",
    "count=0\n",
    "punct=[]\n",
    "#calculating row count \n",
    "for i in range(len(df)):\n",
    "    for j in df['v2'][i]:\n",
    "        if j in string.punctuation:\n",
    "            count+=1\n",
    "    punct.append(count)\n",
    "    count=0"
   ]
  },
  {
   "cell_type": "code",
   "execution_count": 14,
   "id": "0d0a9f02",
   "metadata": {
    "execution": {
     "iopub.execute_input": "2022-01-07T16:18:35.370608Z",
     "iopub.status.busy": "2022-01-07T16:18:35.369849Z",
     "iopub.status.idle": "2022-01-07T16:18:35.372147Z",
     "shell.execute_reply": "2022-01-07T16:18:35.372553Z",
     "shell.execute_reply.started": "2022-01-06T15:26:29.9785Z"
    },
    "papermill": {
     "duration": 0.049609,
     "end_time": "2022-01-07T16:18:35.372686",
     "exception": false,
     "start_time": "2022-01-07T16:18:35.323077",
     "status": "completed"
    },
    "tags": []
   },
   "outputs": [],
   "source": [
    "df['Punctuation']=punct"
   ]
  },
  {
   "cell_type": "code",
   "execution_count": 15,
   "id": "9366ec43",
   "metadata": {
    "execution": {
     "iopub.execute_input": "2022-01-07T16:18:35.462482Z",
     "iopub.status.busy": "2022-01-07T16:18:35.461778Z",
     "iopub.status.idle": "2022-01-07T16:18:35.464511Z",
     "shell.execute_reply": "2022-01-07T16:18:35.464909Z",
     "shell.execute_reply.started": "2022-01-06T15:26:29.996625Z"
    },
    "papermill": {
     "duration": 0.052231,
     "end_time": "2022-01-07T16:18:35.465075",
     "exception": false,
     "start_time": "2022-01-07T16:18:35.412844",
     "status": "completed"
    },
    "tags": []
   },
   "outputs": [
    {
     "data": {
      "text/html": [
       "<div>\n",
       "<style scoped>\n",
       "    .dataframe tbody tr th:only-of-type {\n",
       "        vertical-align: middle;\n",
       "    }\n",
       "\n",
       "    .dataframe tbody tr th {\n",
       "        vertical-align: top;\n",
       "    }\n",
       "\n",
       "    .dataframe thead th {\n",
       "        text-align: right;\n",
       "    }\n",
       "</style>\n",
       "<table border=\"1\" class=\"dataframe\">\n",
       "  <thead>\n",
       "    <tr style=\"text-align: right;\">\n",
       "      <th></th>\n",
       "      <th>v1</th>\n",
       "      <th>v2</th>\n",
       "      <th>length</th>\n",
       "      <th>Punctuation</th>\n",
       "    </tr>\n",
       "  </thead>\n",
       "  <tbody>\n",
       "    <tr>\n",
       "      <th>0</th>\n",
       "      <td>ham</td>\n",
       "      <td>Go until jurong point, crazy.. Available only ...</td>\n",
       "      <td>111</td>\n",
       "      <td>9</td>\n",
       "    </tr>\n",
       "    <tr>\n",
       "      <th>1</th>\n",
       "      <td>ham</td>\n",
       "      <td>Ok lar... Joking wif u oni...</td>\n",
       "      <td>29</td>\n",
       "      <td>6</td>\n",
       "    </tr>\n",
       "    <tr>\n",
       "      <th>2</th>\n",
       "      <td>spam</td>\n",
       "      <td>Free entry in 2 a wkly comp to win FA Cup fina...</td>\n",
       "      <td>155</td>\n",
       "      <td>6</td>\n",
       "    </tr>\n",
       "    <tr>\n",
       "      <th>3</th>\n",
       "      <td>ham</td>\n",
       "      <td>U dun say so early hor... U c already then say...</td>\n",
       "      <td>49</td>\n",
       "      <td>6</td>\n",
       "    </tr>\n",
       "    <tr>\n",
       "      <th>4</th>\n",
       "      <td>ham</td>\n",
       "      <td>Nah I don't think he goes to usf, he lives aro...</td>\n",
       "      <td>61</td>\n",
       "      <td>2</td>\n",
       "    </tr>\n",
       "  </tbody>\n",
       "</table>\n",
       "</div>"
      ],
      "text/plain": [
       "     v1                                                 v2  length  \\\n",
       "0   ham  Go until jurong point, crazy.. Available only ...     111   \n",
       "1   ham                      Ok lar... Joking wif u oni...      29   \n",
       "2  spam  Free entry in 2 a wkly comp to win FA Cup fina...     155   \n",
       "3   ham  U dun say so early hor... U c already then say...      49   \n",
       "4   ham  Nah I don't think he goes to usf, he lives aro...      61   \n",
       "\n",
       "   Punctuation  \n",
       "0            9  \n",
       "1            6  \n",
       "2            6  \n",
       "3            6  \n",
       "4            2  "
      ]
     },
     "execution_count": 15,
     "metadata": {},
     "output_type": "execute_result"
    }
   ],
   "source": [
    "df.head()"
   ]
  },
  {
   "cell_type": "markdown",
   "id": "607066fb",
   "metadata": {
    "papermill": {
     "duration": 0.040353,
     "end_time": "2022-01-07T16:18:35.546238",
     "exception": false,
     "start_time": "2022-01-07T16:18:35.505885",
     "status": "completed"
    },
    "tags": []
   },
   "source": [
    "## 3.1 Text Cleaning"
   ]
  },
  {
   "cell_type": "code",
   "execution_count": 16,
   "id": "5d095def",
   "metadata": {
    "execution": {
     "iopub.execute_input": "2022-01-07T16:18:35.632147Z",
     "iopub.status.busy": "2022-01-07T16:18:35.631537Z",
     "iopub.status.idle": "2022-01-07T16:18:37.349316Z",
     "shell.execute_reply": "2022-01-07T16:18:37.349792Z",
     "shell.execute_reply.started": "2022-01-06T15:26:30.010863Z"
    },
    "papermill": {
     "duration": 1.763111,
     "end_time": "2022-01-07T16:18:37.349981",
     "exception": false,
     "start_time": "2022-01-07T16:18:35.586870",
     "status": "completed"
    },
    "tags": []
   },
   "outputs": [],
   "source": [
    "#downloading Regular Expression\n",
    "import re\n",
    "\n",
    "#stopwords\n",
    "from nltk.corpus import stopwords\n",
    "\n",
    "#Lemmatization\n",
    "from nltk.stem import WordNetLemmatizer\n",
    "\n",
    "#Creating Object for Lemmatizer\n",
    "lemmatizer=WordNetLemmatizer()"
   ]
  },
  {
   "cell_type": "code",
   "execution_count": 17,
   "id": "f3eb65b9",
   "metadata": {
    "execution": {
     "iopub.execute_input": "2022-01-07T16:18:37.440781Z",
     "iopub.status.busy": "2022-01-07T16:18:37.439989Z",
     "iopub.status.idle": "2022-01-07T16:18:50.332429Z",
     "shell.execute_reply": "2022-01-07T16:18:50.332850Z",
     "shell.execute_reply.started": "2022-01-06T15:26:30.018595Z"
    },
    "papermill": {
     "duration": 12.937857,
     "end_time": "2022-01-07T16:18:50.333048",
     "exception": false,
     "start_time": "2022-01-07T16:18:37.395191",
     "status": "completed"
    },
    "tags": []
   },
   "outputs": [],
   "source": [
    "#Removal of Extra words and Stop words before Lemmatization can be done\n",
    "corpus=[]\n",
    "\n",
    "#now we will run on our dataframe \n",
    "#skipping the 0th index(its of label)\n",
    "for i in range(len(df)):\n",
    "    words=re.sub('[^a-zA-Z]',' ',df['v2'][i])\n",
    "    words=words.lower()\n",
    "    words=words.split()   #converting string to list of words\n",
    "    \n",
    "    #if word is stopword removing it else lemmatizing it\n",
    "    words=[lemmatizer.lemmatize(word) for word in words if word not in set(stopwords.words('english'))]\n",
    "    \n",
    "    #Again join words to form sentences\n",
    "    words = ' '.join(words)\n",
    "\n",
    "    corpus.append (words)\n",
    "   "
   ]
  },
  {
   "cell_type": "code",
   "execution_count": 18,
   "id": "4144d9a4",
   "metadata": {
    "execution": {
     "iopub.execute_input": "2022-01-07T16:18:50.420124Z",
     "iopub.status.busy": "2022-01-07T16:18:50.419476Z",
     "iopub.status.idle": "2022-01-07T16:18:50.422155Z",
     "shell.execute_reply": "2022-01-07T16:18:50.422545Z",
     "shell.execute_reply.started": "2022-01-06T15:26:41.164788Z"
    },
    "papermill": {
     "duration": 0.048181,
     "end_time": "2022-01-07T16:18:50.422686",
     "exception": false,
     "start_time": "2022-01-07T16:18:50.374505",
     "status": "completed"
    },
    "tags": []
   },
   "outputs": [
    {
     "data": {
      "text/plain": [
       "'go jurong point crazy available bugis n great world la e buffet cine got amore wat'"
      ]
     },
     "execution_count": 18,
     "metadata": {},
     "output_type": "execute_result"
    }
   ],
   "source": [
    "corpus[0]"
   ]
  },
  {
   "cell_type": "code",
   "execution_count": 19,
   "id": "f4a340eb",
   "metadata": {
    "execution": {
     "iopub.execute_input": "2022-01-07T16:18:50.510747Z",
     "iopub.status.busy": "2022-01-07T16:18:50.509894Z",
     "iopub.status.idle": "2022-01-07T16:18:50.511662Z",
     "shell.execute_reply": "2022-01-07T16:18:50.512129Z",
     "shell.execute_reply.started": "2022-01-06T15:26:41.172669Z"
    },
    "papermill": {
     "duration": 0.048594,
     "end_time": "2022-01-07T16:18:50.512270",
     "exception": false,
     "start_time": "2022-01-07T16:18:50.463676",
     "status": "completed"
    },
    "tags": []
   },
   "outputs": [],
   "source": [
    "#now we will replace the messages with new 'removed stopwords,lower messages'\n",
    "df['v2']=corpus"
   ]
  },
  {
   "cell_type": "code",
   "execution_count": 20,
   "id": "4ea4b5e5",
   "metadata": {
    "execution": {
     "iopub.execute_input": "2022-01-07T16:18:50.599705Z",
     "iopub.status.busy": "2022-01-07T16:18:50.598849Z",
     "iopub.status.idle": "2022-01-07T16:18:50.606149Z",
     "shell.execute_reply": "2022-01-07T16:18:50.606591Z",
     "shell.execute_reply.started": "2022-01-06T15:26:41.183501Z"
    },
    "papermill": {
     "duration": 0.053783,
     "end_time": "2022-01-07T16:18:50.606733",
     "exception": false,
     "start_time": "2022-01-07T16:18:50.552950",
     "status": "completed"
    },
    "tags": []
   },
   "outputs": [
    {
     "data": {
      "text/html": [
       "<div>\n",
       "<style scoped>\n",
       "    .dataframe tbody tr th:only-of-type {\n",
       "        vertical-align: middle;\n",
       "    }\n",
       "\n",
       "    .dataframe tbody tr th {\n",
       "        vertical-align: top;\n",
       "    }\n",
       "\n",
       "    .dataframe thead th {\n",
       "        text-align: right;\n",
       "    }\n",
       "</style>\n",
       "<table border=\"1\" class=\"dataframe\">\n",
       "  <thead>\n",
       "    <tr style=\"text-align: right;\">\n",
       "      <th></th>\n",
       "      <th>v1</th>\n",
       "      <th>v2</th>\n",
       "      <th>length</th>\n",
       "      <th>Punctuation</th>\n",
       "    </tr>\n",
       "  </thead>\n",
       "  <tbody>\n",
       "    <tr>\n",
       "      <th>0</th>\n",
       "      <td>ham</td>\n",
       "      <td>go jurong point crazy available bugis n great ...</td>\n",
       "      <td>111</td>\n",
       "      <td>9</td>\n",
       "    </tr>\n",
       "    <tr>\n",
       "      <th>1</th>\n",
       "      <td>ham</td>\n",
       "      <td>ok lar joking wif u oni</td>\n",
       "      <td>29</td>\n",
       "      <td>6</td>\n",
       "    </tr>\n",
       "    <tr>\n",
       "      <th>2</th>\n",
       "      <td>spam</td>\n",
       "      <td>free entry wkly comp win fa cup final tkts st ...</td>\n",
       "      <td>155</td>\n",
       "      <td>6</td>\n",
       "    </tr>\n",
       "    <tr>\n",
       "      <th>3</th>\n",
       "      <td>ham</td>\n",
       "      <td>u dun say early hor u c already say</td>\n",
       "      <td>49</td>\n",
       "      <td>6</td>\n",
       "    </tr>\n",
       "    <tr>\n",
       "      <th>4</th>\n",
       "      <td>ham</td>\n",
       "      <td>nah think go usf life around though</td>\n",
       "      <td>61</td>\n",
       "      <td>2</td>\n",
       "    </tr>\n",
       "  </tbody>\n",
       "</table>\n",
       "</div>"
      ],
      "text/plain": [
       "     v1                                                 v2  length  \\\n",
       "0   ham  go jurong point crazy available bugis n great ...     111   \n",
       "1   ham                            ok lar joking wif u oni      29   \n",
       "2  spam  free entry wkly comp win fa cup final tkts st ...     155   \n",
       "3   ham                u dun say early hor u c already say      49   \n",
       "4   ham                nah think go usf life around though      61   \n",
       "\n",
       "   Punctuation  \n",
       "0            9  \n",
       "1            6  \n",
       "2            6  \n",
       "3            6  \n",
       "4            2  "
      ]
     },
     "execution_count": 20,
     "metadata": {},
     "output_type": "execute_result"
    }
   ],
   "source": [
    "df.head()"
   ]
  },
  {
   "cell_type": "markdown",
   "id": "6200bf98",
   "metadata": {
    "papermill": {
     "duration": 0.041204,
     "end_time": "2022-01-07T16:18:50.689649",
     "exception": false,
     "start_time": "2022-01-07T16:18:50.648445",
     "status": "completed"
    },
    "tags": []
   },
   "source": [
    "## 3.2 Analysing the difference between Spam and Ham messages"
   ]
  },
  {
   "cell_type": "code",
   "execution_count": 21,
   "id": "86a3208e",
   "metadata": {
    "execution": {
     "iopub.execute_input": "2022-01-07T16:18:50.778436Z",
     "iopub.status.busy": "2022-01-07T16:18:50.777643Z",
     "iopub.status.idle": "2022-01-07T16:18:50.782621Z",
     "shell.execute_reply": "2022-01-07T16:18:50.782212Z",
     "shell.execute_reply.started": "2022-01-06T15:26:41.197615Z"
    },
    "papermill": {
     "duration": 0.051926,
     "end_time": "2022-01-07T16:18:50.782736",
     "exception": false,
     "start_time": "2022-01-07T16:18:50.730810",
     "status": "completed"
    },
    "tags": []
   },
   "outputs": [],
   "source": [
    "spam_messages=df[df['v1']=='spam']\n",
    "ham_messages=df[df['v1']=='ham']"
   ]
  },
  {
   "cell_type": "code",
   "execution_count": 22,
   "id": "42209b01",
   "metadata": {
    "execution": {
     "iopub.execute_input": "2022-01-07T16:18:50.876230Z",
     "iopub.status.busy": "2022-01-07T16:18:50.875587Z",
     "iopub.status.idle": "2022-01-07T16:18:50.878302Z",
     "shell.execute_reply": "2022-01-07T16:18:50.878706Z",
     "shell.execute_reply.started": "2022-01-06T15:26:41.209109Z"
    },
    "papermill": {
     "duration": 0.053833,
     "end_time": "2022-01-07T16:18:50.878841",
     "exception": false,
     "start_time": "2022-01-07T16:18:50.825008",
     "status": "completed"
    },
    "tags": []
   },
   "outputs": [
    {
     "data": {
      "text/html": [
       "<div>\n",
       "<style scoped>\n",
       "    .dataframe tbody tr th:only-of-type {\n",
       "        vertical-align: middle;\n",
       "    }\n",
       "\n",
       "    .dataframe tbody tr th {\n",
       "        vertical-align: top;\n",
       "    }\n",
       "\n",
       "    .dataframe thead th {\n",
       "        text-align: right;\n",
       "    }\n",
       "</style>\n",
       "<table border=\"1\" class=\"dataframe\">\n",
       "  <thead>\n",
       "    <tr style=\"text-align: right;\">\n",
       "      <th></th>\n",
       "      <th>v1</th>\n",
       "      <th>v2</th>\n",
       "      <th>length</th>\n",
       "      <th>Punctuation</th>\n",
       "    </tr>\n",
       "  </thead>\n",
       "  <tbody>\n",
       "    <tr>\n",
       "      <th>2</th>\n",
       "      <td>spam</td>\n",
       "      <td>free entry wkly comp win fa cup final tkts st ...</td>\n",
       "      <td>155</td>\n",
       "      <td>6</td>\n",
       "    </tr>\n",
       "    <tr>\n",
       "      <th>5</th>\n",
       "      <td>spam</td>\n",
       "      <td>freemsg hey darling week word back like fun st...</td>\n",
       "      <td>148</td>\n",
       "      <td>8</td>\n",
       "    </tr>\n",
       "    <tr>\n",
       "      <th>8</th>\n",
       "      <td>spam</td>\n",
       "      <td>winner valued network customer selected receiv...</td>\n",
       "      <td>158</td>\n",
       "      <td>6</td>\n",
       "    </tr>\n",
       "    <tr>\n",
       "      <th>9</th>\n",
       "      <td>spam</td>\n",
       "      <td>mobile month u r entitled update latest colour...</td>\n",
       "      <td>154</td>\n",
       "      <td>2</td>\n",
       "    </tr>\n",
       "    <tr>\n",
       "      <th>11</th>\n",
       "      <td>spam</td>\n",
       "      <td>six chance win cash pound txt csh send cost p ...</td>\n",
       "      <td>136</td>\n",
       "      <td>8</td>\n",
       "    </tr>\n",
       "  </tbody>\n",
       "</table>\n",
       "</div>"
      ],
      "text/plain": [
       "      v1                                                 v2  length  \\\n",
       "2   spam  free entry wkly comp win fa cup final tkts st ...     155   \n",
       "5   spam  freemsg hey darling week word back like fun st...     148   \n",
       "8   spam  winner valued network customer selected receiv...     158   \n",
       "9   spam  mobile month u r entitled update latest colour...     154   \n",
       "11  spam  six chance win cash pound txt csh send cost p ...     136   \n",
       "\n",
       "    Punctuation  \n",
       "2             6  \n",
       "5             8  \n",
       "8             6  \n",
       "9             2  \n",
       "11            8  "
      ]
     },
     "execution_count": 22,
     "metadata": {},
     "output_type": "execute_result"
    }
   ],
   "source": [
    "spam_messages.head()"
   ]
  },
  {
   "cell_type": "code",
   "execution_count": 23,
   "id": "eea0458b",
   "metadata": {
    "execution": {
     "iopub.execute_input": "2022-01-07T16:18:50.972129Z",
     "iopub.status.busy": "2022-01-07T16:18:50.971430Z",
     "iopub.status.idle": "2022-01-07T16:18:50.974331Z",
     "shell.execute_reply": "2022-01-07T16:18:50.974760Z",
     "shell.execute_reply.started": "2022-01-06T15:26:41.22249Z"
    },
    "papermill": {
     "duration": 0.054187,
     "end_time": "2022-01-07T16:18:50.974901",
     "exception": false,
     "start_time": "2022-01-07T16:18:50.920714",
     "status": "completed"
    },
    "tags": []
   },
   "outputs": [
    {
     "data": {
      "text/html": [
       "<div>\n",
       "<style scoped>\n",
       "    .dataframe tbody tr th:only-of-type {\n",
       "        vertical-align: middle;\n",
       "    }\n",
       "\n",
       "    .dataframe tbody tr th {\n",
       "        vertical-align: top;\n",
       "    }\n",
       "\n",
       "    .dataframe thead th {\n",
       "        text-align: right;\n",
       "    }\n",
       "</style>\n",
       "<table border=\"1\" class=\"dataframe\">\n",
       "  <thead>\n",
       "    <tr style=\"text-align: right;\">\n",
       "      <th></th>\n",
       "      <th>v1</th>\n",
       "      <th>v2</th>\n",
       "      <th>length</th>\n",
       "      <th>Punctuation</th>\n",
       "    </tr>\n",
       "  </thead>\n",
       "  <tbody>\n",
       "    <tr>\n",
       "      <th>0</th>\n",
       "      <td>ham</td>\n",
       "      <td>go jurong point crazy available bugis n great ...</td>\n",
       "      <td>111</td>\n",
       "      <td>9</td>\n",
       "    </tr>\n",
       "    <tr>\n",
       "      <th>1</th>\n",
       "      <td>ham</td>\n",
       "      <td>ok lar joking wif u oni</td>\n",
       "      <td>29</td>\n",
       "      <td>6</td>\n",
       "    </tr>\n",
       "    <tr>\n",
       "      <th>3</th>\n",
       "      <td>ham</td>\n",
       "      <td>u dun say early hor u c already say</td>\n",
       "      <td>49</td>\n",
       "      <td>6</td>\n",
       "    </tr>\n",
       "    <tr>\n",
       "      <th>4</th>\n",
       "      <td>ham</td>\n",
       "      <td>nah think go usf life around though</td>\n",
       "      <td>61</td>\n",
       "      <td>2</td>\n",
       "    </tr>\n",
       "    <tr>\n",
       "      <th>6</th>\n",
       "      <td>ham</td>\n",
       "      <td>even brother like speak treat like aid patent</td>\n",
       "      <td>77</td>\n",
       "      <td>2</td>\n",
       "    </tr>\n",
       "  </tbody>\n",
       "</table>\n",
       "</div>"
      ],
      "text/plain": [
       "    v1                                                 v2  length  Punctuation\n",
       "0  ham  go jurong point crazy available bugis n great ...     111            9\n",
       "1  ham                            ok lar joking wif u oni      29            6\n",
       "3  ham                u dun say early hor u c already say      49            6\n",
       "4  ham                nah think go usf life around though      61            2\n",
       "6  ham      even brother like speak treat like aid patent      77            2"
      ]
     },
     "execution_count": 23,
     "metadata": {},
     "output_type": "execute_result"
    }
   ],
   "source": [
    "ham_messages.head()"
   ]
  },
  {
   "cell_type": "code",
   "execution_count": 24,
   "id": "11812240",
   "metadata": {
    "execution": {
     "iopub.execute_input": "2022-01-07T16:18:51.072078Z",
     "iopub.status.busy": "2022-01-07T16:18:51.071411Z",
     "iopub.status.idle": "2022-01-07T16:18:51.074206Z",
     "shell.execute_reply": "2022-01-07T16:18:51.074623Z",
     "shell.execute_reply.started": "2022-01-06T15:26:41.236071Z"
    },
    "papermill": {
     "duration": 0.054167,
     "end_time": "2022-01-07T16:18:51.074762",
     "exception": false,
     "start_time": "2022-01-07T16:18:51.020595",
     "status": "completed"
    },
    "tags": []
   },
   "outputs": [
    {
     "data": {
      "text/plain": [
       "5.714859437751004"
      ]
     },
     "execution_count": 24,
     "metadata": {},
     "output_type": "execute_result"
    }
   ],
   "source": [
    "spam_messages['Punctuation'].mean()"
   ]
  },
  {
   "cell_type": "code",
   "execution_count": 25,
   "id": "5054093e",
   "metadata": {
    "execution": {
     "iopub.execute_input": "2022-01-07T16:18:51.172516Z",
     "iopub.status.busy": "2022-01-07T16:18:51.171856Z",
     "iopub.status.idle": "2022-01-07T16:18:51.174554Z",
     "shell.execute_reply": "2022-01-07T16:18:51.174985Z",
     "shell.execute_reply.started": "2022-01-06T15:26:41.246055Z"
    },
    "papermill": {
     "duration": 0.054571,
     "end_time": "2022-01-07T16:18:51.175126",
     "exception": false,
     "start_time": "2022-01-07T16:18:51.120555",
     "status": "completed"
    },
    "tags": []
   },
   "outputs": [
    {
     "data": {
      "text/plain": [
       "138.8661311914324"
      ]
     },
     "execution_count": 25,
     "metadata": {},
     "output_type": "execute_result"
    }
   ],
   "source": [
    "spam_messages['length'].mean()"
   ]
  },
  {
   "cell_type": "code",
   "execution_count": 26,
   "id": "2b06a8d2",
   "metadata": {
    "execution": {
     "iopub.execute_input": "2022-01-07T16:18:51.270119Z",
     "iopub.status.busy": "2022-01-07T16:18:51.269448Z",
     "iopub.status.idle": "2022-01-07T16:18:51.272112Z",
     "shell.execute_reply": "2022-01-07T16:18:51.272523Z",
     "shell.execute_reply.started": "2022-01-06T15:26:41.254933Z"
    },
    "papermill": {
     "duration": 0.052663,
     "end_time": "2022-01-07T16:18:51.272660",
     "exception": false,
     "start_time": "2022-01-07T16:18:51.219997",
     "status": "completed"
    },
    "tags": []
   },
   "outputs": [
    {
     "data": {
      "text/plain": [
       "3.9745077720207256"
      ]
     },
     "execution_count": 26,
     "metadata": {},
     "output_type": "execute_result"
    }
   ],
   "source": [
    "ham_messages['Punctuation'].mean()"
   ]
  },
  {
   "cell_type": "code",
   "execution_count": 27,
   "id": "246857c1",
   "metadata": {
    "execution": {
     "iopub.execute_input": "2022-01-07T16:18:51.366656Z",
     "iopub.status.busy": "2022-01-07T16:18:51.365742Z",
     "iopub.status.idle": "2022-01-07T16:18:51.369635Z",
     "shell.execute_reply": "2022-01-07T16:18:51.370094Z",
     "shell.execute_reply.started": "2022-01-06T15:26:41.263504Z"
    },
    "papermill": {
     "duration": 0.053774,
     "end_time": "2022-01-07T16:18:51.370241",
     "exception": false,
     "start_time": "2022-01-07T16:18:51.316467",
     "status": "completed"
    },
    "tags": []
   },
   "outputs": [
    {
     "data": {
      "text/plain": [
       "71.02362694300518"
      ]
     },
     "execution_count": 27,
     "metadata": {},
     "output_type": "execute_result"
    }
   ],
   "source": [
    "ham_messages['length'].mean()"
   ]
  },
  {
   "cell_type": "markdown",
   "id": "c7b0bb46",
   "metadata": {
    "papermill": {
     "duration": 0.0443,
     "end_time": "2022-01-07T16:18:51.459309",
     "exception": false,
     "start_time": "2022-01-07T16:18:51.415009",
     "status": "completed"
    },
    "tags": []
   },
   "source": [
    "## Model training & Building"
   ]
  },
  {
   "cell_type": "code",
   "execution_count": 28,
   "id": "2f863486",
   "metadata": {
    "execution": {
     "iopub.execute_input": "2022-01-07T16:18:51.551246Z",
     "iopub.status.busy": "2022-01-07T16:18:51.550394Z",
     "iopub.status.idle": "2022-01-07T16:18:51.552186Z",
     "shell.execute_reply": "2022-01-07T16:18:51.552617Z",
     "shell.execute_reply.started": "2022-01-06T15:26:41.274421Z"
    },
    "papermill": {
     "duration": 0.049377,
     "end_time": "2022-01-07T16:18:51.552748",
     "exception": false,
     "start_time": "2022-01-07T16:18:51.503371",
     "status": "completed"
    },
    "tags": []
   },
   "outputs": [],
   "source": [
    "X=df['v2']"
   ]
  },
  {
   "cell_type": "code",
   "execution_count": 29,
   "id": "c808e2e0",
   "metadata": {
    "execution": {
     "iopub.execute_input": "2022-01-07T16:18:51.645198Z",
     "iopub.status.busy": "2022-01-07T16:18:51.644460Z",
     "iopub.status.idle": "2022-01-07T16:18:51.647130Z",
     "shell.execute_reply": "2022-01-07T16:18:51.647651Z",
     "shell.execute_reply.started": "2022-01-06T15:26:41.279726Z"
    },
    "papermill": {
     "duration": 0.052131,
     "end_time": "2022-01-07T16:18:51.647781",
     "exception": false,
     "start_time": "2022-01-07T16:18:51.595650",
     "status": "completed"
    },
    "tags": []
   },
   "outputs": [
    {
     "data": {
      "text/plain": [
       "0    go jurong point crazy available bugis n great ...\n",
       "1                              ok lar joking wif u oni\n",
       "2    free entry wkly comp win fa cup final tkts st ...\n",
       "3                  u dun say early hor u c already say\n",
       "4                  nah think go usf life around though\n",
       "Name: v2, dtype: object"
      ]
     },
     "execution_count": 29,
     "metadata": {},
     "output_type": "execute_result"
    }
   ],
   "source": [
    "X.head()"
   ]
  },
  {
   "cell_type": "code",
   "execution_count": 30,
   "id": "928bc2a7",
   "metadata": {
    "execution": {
     "iopub.execute_input": "2022-01-07T16:18:51.742135Z",
     "iopub.status.busy": "2022-01-07T16:18:51.741262Z",
     "iopub.status.idle": "2022-01-07T16:18:51.743033Z",
     "shell.execute_reply": "2022-01-07T16:18:51.743477Z",
     "shell.execute_reply.started": "2022-01-06T15:26:41.290704Z"
    },
    "papermill": {
     "duration": 0.050049,
     "end_time": "2022-01-07T16:18:51.743612",
     "exception": false,
     "start_time": "2022-01-07T16:18:51.693563",
     "status": "completed"
    },
    "tags": []
   },
   "outputs": [],
   "source": [
    "y=df['v1']"
   ]
  },
  {
   "cell_type": "code",
   "execution_count": 31,
   "id": "5a7f3223",
   "metadata": {
    "execution": {
     "iopub.execute_input": "2022-01-07T16:18:51.837063Z",
     "iopub.status.busy": "2022-01-07T16:18:51.836363Z",
     "iopub.status.idle": "2022-01-07T16:18:51.839080Z",
     "shell.execute_reply": "2022-01-07T16:18:51.839485Z",
     "shell.execute_reply.started": "2022-01-06T15:26:41.30063Z"
    },
    "papermill": {
     "duration": 0.052804,
     "end_time": "2022-01-07T16:18:51.839626",
     "exception": false,
     "start_time": "2022-01-07T16:18:51.786822",
     "status": "completed"
    },
    "tags": []
   },
   "outputs": [
    {
     "data": {
      "text/plain": [
       "0     ham\n",
       "1     ham\n",
       "2    spam\n",
       "3     ham\n",
       "4     ham\n",
       "Name: v1, dtype: object"
      ]
     },
     "execution_count": 31,
     "metadata": {},
     "output_type": "execute_result"
    }
   ],
   "source": [
    "y.head()"
   ]
  },
  {
   "cell_type": "markdown",
   "id": "fe727c33",
   "metadata": {
    "papermill": {
     "duration": 0.044284,
     "end_time": "2022-01-07T16:18:51.927529",
     "exception": false,
     "start_time": "2022-01-07T16:18:51.883245",
     "status": "completed"
    },
    "tags": []
   },
   "source": [
    "## 4.1 Train Test Split"
   ]
  },
  {
   "cell_type": "code",
   "execution_count": 32,
   "id": "d04891db",
   "metadata": {
    "execution": {
     "iopub.execute_input": "2022-01-07T16:18:52.026245Z",
     "iopub.status.busy": "2022-01-07T16:18:52.025332Z",
     "iopub.status.idle": "2022-01-07T16:18:52.027344Z",
     "shell.execute_reply": "2022-01-07T16:18:52.027792Z",
     "shell.execute_reply.started": "2022-01-06T15:26:41.311075Z"
    },
    "papermill": {
     "duration": 0.056205,
     "end_time": "2022-01-07T16:18:52.027928",
     "exception": false,
     "start_time": "2022-01-07T16:18:51.971723",
     "status": "completed"
    },
    "tags": []
   },
   "outputs": [],
   "source": [
    "from sklearn.model_selection import train_test_split"
   ]
  },
  {
   "cell_type": "code",
   "execution_count": 33,
   "id": "e016eb32",
   "metadata": {
    "execution": {
     "iopub.execute_input": "2022-01-07T16:18:52.133166Z",
     "iopub.status.busy": "2022-01-07T16:18:52.132157Z",
     "iopub.status.idle": "2022-01-07T16:18:52.134078Z",
     "shell.execute_reply": "2022-01-07T16:18:52.134576Z",
     "shell.execute_reply.started": "2022-01-06T15:26:41.318957Z"
    },
    "papermill": {
     "duration": 0.058605,
     "end_time": "2022-01-07T16:18:52.134728",
     "exception": false,
     "start_time": "2022-01-07T16:18:52.076123",
     "status": "completed"
    },
    "tags": []
   },
   "outputs": [],
   "source": [
    "X_train,X_test,y_train,y_test=train_test_split(X,y,test_size=.2,random_state=42)"
   ]
  },
  {
   "cell_type": "markdown",
   "id": "3186dc63",
   "metadata": {
    "papermill": {
     "duration": 0.045824,
     "end_time": "2022-01-07T16:18:52.229656",
     "exception": false,
     "start_time": "2022-01-07T16:18:52.183832",
     "status": "completed"
    },
    "tags": []
   },
   "source": [
    "## 4.2 Dealing with Text (Natural Language data) data"
   ]
  },
  {
   "cell_type": "code",
   "execution_count": 34,
   "id": "904cd88c",
   "metadata": {
    "execution": {
     "iopub.execute_input": "2022-01-07T16:18:52.322350Z",
     "iopub.status.busy": "2022-01-07T16:18:52.321583Z",
     "iopub.status.idle": "2022-01-07T16:18:52.323585Z",
     "shell.execute_reply": "2022-01-07T16:18:52.324011Z",
     "shell.execute_reply.started": "2022-01-06T15:26:41.3292Z"
    },
    "papermill": {
     "duration": 0.050177,
     "end_time": "2022-01-07T16:18:52.324197",
     "exception": false,
     "start_time": "2022-01-07T16:18:52.274020",
     "status": "completed"
    },
    "tags": []
   },
   "outputs": [],
   "source": [
    "from sklearn.feature_extraction.text import TfidfVectorizer\n",
    "tfidf=TfidfVectorizer()"
   ]
  },
  {
   "cell_type": "code",
   "execution_count": 35,
   "id": "1fe09649",
   "metadata": {
    "execution": {
     "iopub.execute_input": "2022-01-07T16:18:52.417306Z",
     "iopub.status.busy": "2022-01-07T16:18:52.416439Z",
     "iopub.status.idle": "2022-01-07T16:18:52.418220Z",
     "shell.execute_reply": "2022-01-07T16:18:52.418649Z",
     "shell.execute_reply.started": "2022-01-06T15:26:41.337166Z"
    },
    "papermill": {
     "duration": 0.050124,
     "end_time": "2022-01-07T16:18:52.418778",
     "exception": false,
     "start_time": "2022-01-07T16:18:52.368654",
     "status": "completed"
    },
    "tags": []
   },
   "outputs": [],
   "source": [
    "from sklearn.feature_extraction.text import CountVectorizer "
   ]
  },
  {
   "cell_type": "code",
   "execution_count": 36,
   "id": "a0475168",
   "metadata": {
    "execution": {
     "iopub.execute_input": "2022-01-07T16:18:52.512186Z",
     "iopub.status.busy": "2022-01-07T16:18:52.511619Z",
     "iopub.status.idle": "2022-01-07T16:18:52.515546Z",
     "shell.execute_reply": "2022-01-07T16:18:52.515137Z",
     "shell.execute_reply.started": "2022-01-06T15:26:41.345564Z"
    },
    "papermill": {
     "duration": 0.052682,
     "end_time": "2022-01-07T16:18:52.515656",
     "exception": false,
     "start_time": "2022-01-07T16:18:52.462974",
     "status": "completed"
    },
    "tags": []
   },
   "outputs": [],
   "source": [
    "cv=CountVectorizer(max_features=5772)         #countvectorizer is the library which helps in creating BOW. cv is the object"
   ]
  },
  {
   "cell_type": "code",
   "execution_count": 37,
   "id": "c9809be3",
   "metadata": {
    "execution": {
     "iopub.execute_input": "2022-01-07T16:18:52.647394Z",
     "iopub.status.busy": "2022-01-07T16:18:52.632089Z",
     "iopub.status.idle": "2022-01-07T16:18:52.726527Z",
     "shell.execute_reply": "2022-01-07T16:18:52.725622Z",
     "shell.execute_reply.started": "2022-01-06T15:26:41.356582Z"
    },
    "papermill": {
     "duration": 0.166937,
     "end_time": "2022-01-07T16:18:52.726664",
     "exception": false,
     "start_time": "2022-01-07T16:18:52.559727",
     "status": "completed"
    },
    "tags": []
   },
   "outputs": [],
   "source": [
    "X_train_tfidf_vect=cv.fit_transform(X_train).toarray()"
   ]
  },
  {
   "cell_type": "code",
   "execution_count": 38,
   "id": "c9500160",
   "metadata": {
    "execution": {
     "iopub.execute_input": "2022-01-07T16:18:52.821035Z",
     "iopub.status.busy": "2022-01-07T16:18:52.820392Z",
     "iopub.status.idle": "2022-01-07T16:18:52.823086Z",
     "shell.execute_reply": "2022-01-07T16:18:52.823484Z",
     "shell.execute_reply.started": "2022-01-06T15:26:41.476286Z"
    },
    "papermill": {
     "duration": 0.052779,
     "end_time": "2022-01-07T16:18:52.823615",
     "exception": false,
     "start_time": "2022-01-07T16:18:52.770836",
     "status": "completed"
    },
    "tags": []
   },
   "outputs": [
    {
     "data": {
      "text/plain": [
       "array([[0, 0, 0, ..., 0, 0, 0],\n",
       "       [0, 0, 0, ..., 0, 0, 0],\n",
       "       [0, 0, 0, ..., 0, 0, 0],\n",
       "       ...,\n",
       "       [0, 0, 0, ..., 0, 0, 0],\n",
       "       [0, 0, 0, ..., 0, 0, 0],\n",
       "       [0, 0, 0, ..., 0, 0, 0]])"
      ]
     },
     "execution_count": 38,
     "metadata": {},
     "output_type": "execute_result"
    }
   ],
   "source": [
    "X_train_tfidf_vect"
   ]
  },
  {
   "cell_type": "code",
   "execution_count": 39,
   "id": "e3b56f10",
   "metadata": {
    "execution": {
     "iopub.execute_input": "2022-01-07T16:18:52.918791Z",
     "iopub.status.busy": "2022-01-07T16:18:52.918151Z",
     "iopub.status.idle": "2022-01-07T16:18:52.920765Z",
     "shell.execute_reply": "2022-01-07T16:18:52.921176Z",
     "shell.execute_reply.started": "2022-01-06T15:26:41.485401Z"
    },
    "papermill": {
     "duration": 0.052148,
     "end_time": "2022-01-07T16:18:52.921310",
     "exception": false,
     "start_time": "2022-01-07T16:18:52.869162",
     "status": "completed"
    },
    "tags": []
   },
   "outputs": [
    {
     "data": {
      "text/plain": [
       "(4457, 5772)"
      ]
     },
     "execution_count": 39,
     "metadata": {},
     "output_type": "execute_result"
    }
   ],
   "source": [
    "X_train_tfidf_vect.shape"
   ]
  },
  {
   "cell_type": "markdown",
   "id": "bb51f1a3",
   "metadata": {
    "papermill": {
     "duration": 0.045486,
     "end_time": "2022-01-07T16:18:53.011681",
     "exception": false,
     "start_time": "2022-01-07T16:18:52.966195",
     "status": "completed"
    },
    "tags": []
   },
   "source": [
    "## Multinomial Naive Bayes Classifier"
   ]
  },
  {
   "cell_type": "code",
   "execution_count": 40,
   "id": "7d83c893",
   "metadata": {
    "execution": {
     "iopub.execute_input": "2022-01-07T16:18:53.106484Z",
     "iopub.status.busy": "2022-01-07T16:18:53.105927Z",
     "iopub.status.idle": "2022-01-07T16:18:53.110867Z",
     "shell.execute_reply": "2022-01-07T16:18:53.110468Z",
     "shell.execute_reply.started": "2022-01-06T15:26:41.494227Z"
    },
    "papermill": {
     "duration": 0.05425,
     "end_time": "2022-01-07T16:18:53.111005",
     "exception": false,
     "start_time": "2022-01-07T16:18:53.056755",
     "status": "completed"
    },
    "tags": []
   },
   "outputs": [],
   "source": [
    "from sklearn.naive_bayes import MultinomialNB"
   ]
  },
  {
   "cell_type": "code",
   "execution_count": 41,
   "id": "71794149",
   "metadata": {
    "execution": {
     "iopub.execute_input": "2022-01-07T16:18:53.204932Z",
     "iopub.status.busy": "2022-01-07T16:18:53.204322Z",
     "iopub.status.idle": "2022-01-07T16:18:53.209379Z",
     "shell.execute_reply": "2022-01-07T16:18:53.208907Z",
     "shell.execute_reply.started": "2022-01-06T15:26:41.500698Z"
    },
    "papermill": {
     "duration": 0.053676,
     "end_time": "2022-01-07T16:18:53.209495",
     "exception": false,
     "start_time": "2022-01-07T16:18:53.155819",
     "status": "completed"
    },
    "tags": []
   },
   "outputs": [],
   "source": [
    "from sklearn.pipeline import Pipeline\n"
   ]
  },
  {
   "cell_type": "code",
   "execution_count": 42,
   "id": "85bf1c77",
   "metadata": {
    "execution": {
     "iopub.execute_input": "2022-01-07T16:18:53.305226Z",
     "iopub.status.busy": "2022-01-07T16:18:53.304236Z",
     "iopub.status.idle": "2022-01-07T16:18:53.306048Z",
     "shell.execute_reply": "2022-01-07T16:18:53.306535Z",
     "shell.execute_reply.started": "2022-01-06T15:35:55.131796Z"
    },
    "papermill": {
     "duration": 0.051307,
     "end_time": "2022-01-07T16:18:53.306671",
     "exception": false,
     "start_time": "2022-01-07T16:18:53.255364",
     "status": "completed"
    },
    "tags": []
   },
   "outputs": [],
   "source": [
    "text_mnb=Pipeline([('tfidf',TfidfVectorizer()),('mnb',MultinomialNB())])"
   ]
  },
  {
   "cell_type": "code",
   "execution_count": 43,
   "id": "72ca84d3",
   "metadata": {
    "execution": {
     "iopub.execute_input": "2022-01-07T16:18:53.399117Z",
     "iopub.status.busy": "2022-01-07T16:18:53.398310Z",
     "iopub.status.idle": "2022-01-07T16:18:53.494183Z",
     "shell.execute_reply": "2022-01-07T16:18:53.493652Z",
     "shell.execute_reply.started": "2022-01-06T15:35:56.358682Z"
    },
    "papermill": {
     "duration": 0.143203,
     "end_time": "2022-01-07T16:18:53.494313",
     "exception": false,
     "start_time": "2022-01-07T16:18:53.351110",
     "status": "completed"
    },
    "tags": []
   },
   "outputs": [
    {
     "data": {
      "text/plain": [
       "Pipeline(steps=[('tfidf', TfidfVectorizer()), ('mnb', MultinomialNB())])"
      ]
     },
     "execution_count": 43,
     "metadata": {},
     "output_type": "execute_result"
    }
   ],
   "source": [
    "text_mnb.fit(X_train,y_train)"
   ]
  },
  {
   "cell_type": "code",
   "execution_count": 44,
   "id": "e3f6608b",
   "metadata": {
    "execution": {
     "iopub.execute_input": "2022-01-07T16:18:53.603692Z",
     "iopub.status.busy": "2022-01-07T16:18:53.602814Z",
     "iopub.status.idle": "2022-01-07T16:18:53.607251Z",
     "shell.execute_reply": "2022-01-07T16:18:53.606779Z",
     "shell.execute_reply.started": "2022-01-06T15:38:03.080142Z"
    },
    "papermill": {
     "duration": 0.067671,
     "end_time": "2022-01-07T16:18:53.607373",
     "exception": false,
     "start_time": "2022-01-07T16:18:53.539702",
     "status": "completed"
    },
    "tags": []
   },
   "outputs": [],
   "source": [
    "y_preds_mnb=text_mnb.predict(X_test)"
   ]
  },
  {
   "cell_type": "code",
   "execution_count": 45,
   "id": "3f2d3fb8",
   "metadata": {
    "execution": {
     "iopub.execute_input": "2022-01-07T16:18:53.701811Z",
     "iopub.status.busy": "2022-01-07T16:18:53.700868Z",
     "iopub.status.idle": "2022-01-07T16:18:53.706168Z",
     "shell.execute_reply": "2022-01-07T16:18:53.705704Z",
     "shell.execute_reply.started": "2022-01-06T15:38:12.020275Z"
    },
    "papermill": {
     "duration": 0.05341,
     "end_time": "2022-01-07T16:18:53.706283",
     "exception": false,
     "start_time": "2022-01-07T16:18:53.652873",
     "status": "completed"
    },
    "tags": []
   },
   "outputs": [
    {
     "data": {
      "text/plain": [
       "array(['ham', 'ham', 'ham', ..., 'ham', 'ham', 'spam'], dtype='<U4')"
      ]
     },
     "execution_count": 45,
     "metadata": {},
     "output_type": "execute_result"
    }
   ],
   "source": [
    "y_preds_mnb"
   ]
  },
  {
   "cell_type": "code",
   "execution_count": 46,
   "id": "779280bd",
   "metadata": {
    "execution": {
     "iopub.execute_input": "2022-01-07T16:18:53.820636Z",
     "iopub.status.busy": "2022-01-07T16:18:53.802883Z",
     "iopub.status.idle": "2022-01-07T16:18:53.875269Z",
     "shell.execute_reply": "2022-01-07T16:18:53.875701Z",
     "shell.execute_reply.started": "2022-01-06T15:40:28.442679Z"
    },
    "papermill": {
     "duration": 0.123944,
     "end_time": "2022-01-07T16:18:53.875843",
     "exception": false,
     "start_time": "2022-01-07T16:18:53.751899",
     "status": "completed"
    },
    "tags": []
   },
   "outputs": [
    {
     "data": {
      "text/plain": [
       "0.979582678932017"
      ]
     },
     "execution_count": 46,
     "metadata": {},
     "output_type": "execute_result"
    }
   ],
   "source": [
    "text_mnb.score(X_train,y_train)"
   ]
  },
  {
   "cell_type": "code",
   "execution_count": 47,
   "id": "48865dcf",
   "metadata": {
    "execution": {
     "iopub.execute_input": "2022-01-07T16:18:53.987231Z",
     "iopub.status.busy": "2022-01-07T16:18:53.980611Z",
     "iopub.status.idle": "2022-01-07T16:18:53.995258Z",
     "shell.execute_reply": "2022-01-07T16:18:53.994793Z",
     "shell.execute_reply.started": "2022-01-06T15:40:41.509602Z"
    },
    "papermill": {
     "duration": 0.073506,
     "end_time": "2022-01-07T16:18:53.995376",
     "exception": false,
     "start_time": "2022-01-07T16:18:53.921870",
     "status": "completed"
    },
    "tags": []
   },
   "outputs": [
    {
     "data": {
      "text/plain": [
       "0.9632286995515695"
      ]
     },
     "execution_count": 47,
     "metadata": {},
     "output_type": "execute_result"
    }
   ],
   "source": [
    "text_mnb.score(X_test,y_test)"
   ]
  },
  {
   "cell_type": "markdown",
   "id": "85bd0e3f",
   "metadata": {
    "papermill": {
     "duration": 0.054562,
     "end_time": "2022-01-07T16:18:54.097024",
     "exception": false,
     "start_time": "2022-01-07T16:18:54.042462",
     "status": "completed"
    },
    "tags": []
   },
   "source": [
    "## Classification Report"
   ]
  },
  {
   "cell_type": "code",
   "execution_count": 48,
   "id": "c75c9b9c",
   "metadata": {
    "execution": {
     "iopub.execute_input": "2022-01-07T16:18:54.194482Z",
     "iopub.status.busy": "2022-01-07T16:18:54.193607Z",
     "iopub.status.idle": "2022-01-07T16:18:54.195811Z",
     "shell.execute_reply": "2022-01-07T16:18:54.195303Z",
     "shell.execute_reply.started": "2022-01-06T15:42:18.115672Z"
    },
    "papermill": {
     "duration": 0.052579,
     "end_time": "2022-01-07T16:18:54.195921",
     "exception": false,
     "start_time": "2022-01-07T16:18:54.143342",
     "status": "completed"
    },
    "tags": []
   },
   "outputs": [],
   "source": [
    "from sklearn.metrics import confusion_matrix"
   ]
  },
  {
   "cell_type": "code",
   "execution_count": 49,
   "id": "8cf2fff4",
   "metadata": {
    "execution": {
     "iopub.execute_input": "2022-01-07T16:18:54.298115Z",
     "iopub.status.busy": "2022-01-07T16:18:54.297253Z",
     "iopub.status.idle": "2022-01-07T16:18:54.303137Z",
     "shell.execute_reply": "2022-01-07T16:18:54.303788Z",
     "shell.execute_reply.started": "2022-01-06T15:42:37.476479Z"
    },
    "papermill": {
     "duration": 0.059992,
     "end_time": "2022-01-07T16:18:54.303985",
     "exception": false,
     "start_time": "2022-01-07T16:18:54.243993",
     "status": "completed"
    },
    "tags": []
   },
   "outputs": [
    {
     "name": "stdout",
     "output_type": "stream",
     "text": [
      "[[965   0]\n",
      " [ 41 109]]\n"
     ]
    }
   ],
   "source": [
    "print(confusion_matrix(y_test,y_preds_mnb))"
   ]
  },
  {
   "cell_type": "code",
   "execution_count": 50,
   "id": "d400feb5",
   "metadata": {
    "execution": {
     "iopub.execute_input": "2022-01-07T16:18:54.402884Z",
     "iopub.status.busy": "2022-01-07T16:18:54.402047Z",
     "iopub.status.idle": "2022-01-07T16:18:54.403997Z",
     "shell.execute_reply": "2022-01-07T16:18:54.404528Z",
     "shell.execute_reply.started": "2022-01-06T15:43:20.44993Z"
    },
    "papermill": {
     "duration": 0.053184,
     "end_time": "2022-01-07T16:18:54.404679",
     "exception": false,
     "start_time": "2022-01-07T16:18:54.351495",
     "status": "completed"
    },
    "tags": []
   },
   "outputs": [],
   "source": [
    "from sklearn.metrics import classification_report"
   ]
  },
  {
   "cell_type": "code",
   "execution_count": 51,
   "id": "b4b2ed29",
   "metadata": {
    "execution": {
     "iopub.execute_input": "2022-01-07T16:18:54.503073Z",
     "iopub.status.busy": "2022-01-07T16:18:54.502349Z",
     "iopub.status.idle": "2022-01-07T16:18:54.539458Z",
     "shell.execute_reply": "2022-01-07T16:18:54.540037Z",
     "shell.execute_reply.started": "2022-01-06T15:43:45.143597Z"
    },
    "papermill": {
     "duration": 0.08877,
     "end_time": "2022-01-07T16:18:54.540233",
     "exception": false,
     "start_time": "2022-01-07T16:18:54.451463",
     "status": "completed"
    },
    "tags": []
   },
   "outputs": [
    {
     "name": "stdout",
     "output_type": "stream",
     "text": [
      "              precision    recall  f1-score   support\n",
      "\n",
      "         ham       0.96      1.00      0.98       965\n",
      "        spam       1.00      0.73      0.84       150\n",
      "\n",
      "    accuracy                           0.96      1115\n",
      "   macro avg       0.98      0.86      0.91      1115\n",
      "weighted avg       0.96      0.96      0.96      1115\n",
      "\n"
     ]
    }
   ],
   "source": [
    "print(classification_report(y_test,y_preds_mnb))"
   ]
  },
  {
   "cell_type": "code",
   "execution_count": 52,
   "id": "fd84262c",
   "metadata": {
    "execution": {
     "iopub.execute_input": "2022-01-07T16:18:54.639245Z",
     "iopub.status.busy": "2022-01-07T16:18:54.638395Z",
     "iopub.status.idle": "2022-01-07T16:18:54.640190Z",
     "shell.execute_reply": "2022-01-07T16:18:54.640619Z",
     "shell.execute_reply.started": "2022-01-06T15:44:10.426338Z"
    },
    "papermill": {
     "duration": 0.05275,
     "end_time": "2022-01-07T16:18:54.640749",
     "exception": false,
     "start_time": "2022-01-07T16:18:54.587999",
     "status": "completed"
    },
    "tags": []
   },
   "outputs": [],
   "source": [
    "from sklearn.metrics import accuracy_score"
   ]
  },
  {
   "cell_type": "code",
   "execution_count": 53,
   "id": "dc3d90c5",
   "metadata": {
    "execution": {
     "iopub.execute_input": "2022-01-07T16:18:54.741599Z",
     "iopub.status.busy": "2022-01-07T16:18:54.740978Z",
     "iopub.status.idle": "2022-01-07T16:18:54.743753Z",
     "shell.execute_reply": "2022-01-07T16:18:54.744432Z",
     "shell.execute_reply.started": "2022-01-06T15:44:38.797843Z"
    },
    "papermill": {
     "duration": 0.057093,
     "end_time": "2022-01-07T16:18:54.744646",
     "exception": false,
     "start_time": "2022-01-07T16:18:54.687553",
     "status": "completed"
    },
    "tags": []
   },
   "outputs": [
    {
     "name": "stdout",
     "output_type": "stream",
     "text": [
      "0.9632286995515695\n"
     ]
    }
   ],
   "source": [
    "print(accuracy_score(y_test,y_preds_mnb))"
   ]
  }
 ],
 "metadata": {
  "kernelspec": {
   "display_name": "Python 3",
   "language": "python",
   "name": "python3"
  },
  "language_info": {
   "codemirror_mode": {
    "name": "ipython",
    "version": 3
   },
   "file_extension": ".py",
   "mimetype": "text/x-python",
   "name": "python",
   "nbconvert_exporter": "python",
   "pygments_lexer": "ipython3",
   "version": "3.7.12"
  },
  "papermill": {
   "default_parameters": {},
   "duration": 30.417769,
   "end_time": "2022-01-07T16:18:55.603486",
   "environment_variables": {},
   "exception": null,
   "input_path": "__notebook__.ipynb",
   "output_path": "__notebook__.ipynb",
   "parameters": {},
   "start_time": "2022-01-07T16:18:25.185717",
   "version": "2.3.3"
  }
 },
 "nbformat": 4,
 "nbformat_minor": 5
}
